{
 "cells": [
  {
   "cell_type": "code",
   "execution_count": 1,
   "metadata": {},
   "outputs": [
    {
     "name": "stdout",
     "output_type": "stream",
     "text": [
      "Requirement already satisfied: selenium in c:\\users\\abhilash\\anaconda3\\lib\\site-packages (3.141.0)\n",
      "Requirement already satisfied: urllib3 in c:\\users\\abhilash\\anaconda3\\lib\\site-packages (from selenium) (1.24.2)\n"
     ]
    }
   ],
   "source": [
    "!pip install selenium"
   ]
  },
  {
   "cell_type": "code",
   "execution_count": 2,
   "metadata": {},
   "outputs": [],
   "source": [
    "from selenium import webdriver\n",
    "import time"
   ]
  },
  {
   "cell_type": "code",
   "execution_count": 3,
   "metadata": {},
   "outputs": [],
   "source": [
    "#Login \n",
    "def login(driver):\n",
    "    driver.get('https://www.instagram.com/')\n",
    "    time.sleep(2)\n",
    "    username = driver.find_element_by_xpath('//*[@id=\"loginForm\"]/div/div[1]/div/label/input')\n",
    "    username.send_keys('')# ta3228 abhilash.datta\n",
    "\n",
    "    password = driver.find_element_by_xpath('//*[@id=\"loginForm\"]/div/div[2]/div/label/input')\n",
    "    password.send_keys('')\n",
    "\n",
    "    login_button = driver.find_element_by_xpath('//*[@id=\"loginForm\"]/div/div[3]')\n",
    "    login_button.click()"
   ]
  },
  {
   "cell_type": "code",
   "execution_count": 4,
   "metadata": {},
   "outputs": [],
   "source": [
    "#clearing notifs\n",
    "def clear_notifs(driver):\n",
    "    time.sleep(5)\n",
    "    not_now = driver.find_element_by_xpath('//*[@id=\"react-root\"]/section/main/div/div/div/div/button')\n",
    "    not_now.click()\n",
    "    time.sleep(2)\n",
    "    not_now2 = driver.find_element_by_xpath('/html/body/div[4]/div/div/div/div[3]/button[2]')\n",
    "    not_now2.click()\n"
   ]
  },
  {
   "cell_type": "code",
   "execution_count": 5,
   "metadata": {},
   "outputs": [],
   "source": [
    "#sending message\n",
    "def group_create_n_dm(driver,users,message):\n",
    "    \n",
    "    driver.get('https://www.instagram.com/direct/inbox/')\n",
    "    time.sleep(2)\n",
    "\n",
    "    send_message_button = driver.find_element_by_xpath('//*[@id=\"react-root\"]/section/div/div[2]/div/div/div[2]/div/button')\n",
    "    send_message_button.click()\n",
    "\n",
    "    for user in users:\n",
    "        time.sleep(5)\n",
    "        search_user = driver.find_element_by_xpath('/html/body/div[5]/div/div/div[2]/div[1]/div/div[2]/input')\n",
    "        search_user.send_keys(user)\n",
    "\n",
    "        time.sleep(2)\n",
    "        selector = driver.find_element_by_xpath('/html/body/div[5]/div/div/div[2]/div[2]/div/div/div[3]/button/span')\n",
    "        selector.click()\n",
    "\n",
    "    next_button = driver.find_element_by_xpath('/html/body/div[5]/div/div/div[1]/div/div[2]/div/button/div')\n",
    "    next_button.click()\n",
    "\n",
    "    time.sleep(2)\n",
    "    text = driver.find_element_by_xpath('//*[@id=\"react-root\"]/section/div/div[2]/div/div/div[2]/div[2]/div/div[2]/div/div/div[2]/textarea')\n",
    "    text.send_keys(message)\n",
    "\n",
    "    send = driver.find_element_by_xpath('//*[@id=\"react-root\"]/section/div/div[2]/div/div/div[2]/div[2]/div/div[2]/div/div/div[3]/button')\n",
    "    send.click()"
   ]
  },
  {
   "cell_type": "code",
   "execution_count": 6,
   "metadata": {},
   "outputs": [],
   "source": [
    "def multiple_dm(driver,users,message):\n",
    "    \n",
    "    driver.get('https://www.instagram.com/direct/inbox/')\n",
    "    time.sleep(2)\n",
    "    \n",
    "    for user in users:\n",
    "        send_message_button = driver.find_element_by_xpath('//*[@id=\"react-root\"]/section/div/div[2]/div/div/div[2]/div/button')\n",
    "        send_message_button.click()\n",
    "        #driver.get('https://www.instagram.com/direct/new')\n",
    "        time.sleep(2)\n",
    "\n",
    "        search_user = driver.find_element_by_xpath('/html/body/div[5]/div/div/div[2]/div[1]/div/div[2]/input')\n",
    "        search_user.send_keys(user)\n",
    "\n",
    "        time.sleep(4)\n",
    "        selector = driver.find_element_by_xpath('/html/body/div[5]/div/div/div[2]/div[2]/div/div/div[3]/button/span')\n",
    "        selector.click()\n",
    "\n",
    "        next_button = driver.find_element_by_xpath('/html/body/div[5]/div/div/div[1]/div/div[2]/div/button/div')\n",
    "        next_button.click()\n",
    "\n",
    "        time.sleep(4)\n",
    "        text = driver.find_element_by_xpath('//*[@id=\"react-root\"]/section/div/div[2]/div/div/div[2]/div[2]/div/div[2]/div/div/div[2]/textarea')\n",
    "        text.send_keys(message)\n",
    "\n",
    "        send = driver.find_element_by_xpath('//*[@id=\"react-root\"]/section/div/div[2]/div/div/div[2]/div[2]/div/div[2]/div/div/div[3]/button')\n",
    "        send.click()\n",
    "        driver.get('https://www.instagram.com/direct/inbox/')\n",
    "        time.sleep(2)"
   ]
  },
  {
   "cell_type": "code",
   "execution_count": 7,
   "metadata": {},
   "outputs": [],
   "source": [
    "def logout(driver):\n",
    "    profile_button = driver.find_element_by_xpath('//*[@id=\"react-root\"]/section/div/div[1]/div/div[3]/div/div[5]/span/img')\n",
    "    profile_button.click()\n",
    "    time.sleep(2)\n",
    "    logout_button = driver.find_element_by_xpath('/html/body/div[1]/section/div/div[1]/div/div[3]/div/div[5]/div[2]/div[2]/div[2]/div[2]/div/div/div/div/div/div')\n",
    "    logout_button.click()"
   ]
  },
  {
   "cell_type": "code",
   "execution_count": 8,
   "metadata": {},
   "outputs": [],
   "source": [
    "users = ['test']\n",
    "message = 'Hello! this is an automated message.'"
   ]
  },
  {
   "cell_type": "code",
   "execution_count": 9,
   "metadata": {},
   "outputs": [],
   "source": [
    "def auto_greeter(driver,users):\n",
    "    greetings = 'Hi there!! this is Abhilash Datta, this message is automated but I am surely real' \n",
    "    driver.maximize_window()\n",
    "    login(driver)\n",
    "    clear_notifs(driver)\n",
    "    multiple_dm(driver,users,greetings)\n",
    "    logout(driver)"
   ]
  },
  {
   "cell_type": "code",
   "execution_count": 10,
   "metadata": {},
   "outputs": [],
   "source": [
    "driver = webdriver.Chrome(\"/Users/ABHILASH/Downloads/chromedriver/chromedriver.exe\")\n",
    "auto_greeter(driver,users)"
   ]
  },
  {
   "cell_type": "code",
   "execution_count": null,
   "metadata": {},
   "outputs": [],
   "source": []
  },
  {
   "cell_type": "code",
   "execution_count": null,
   "metadata": {},
   "outputs": [],
   "source": []
  },
  {
   "cell_type": "code",
   "execution_count": null,
   "metadata": {},
   "outputs": [],
   "source": []
  }
 ],
 "metadata": {
  "kernelspec": {
   "display_name": "Python 3",
   "language": "python",
   "name": "python3"
  },
  "language_info": {
   "codemirror_mode": {
    "name": "ipython",
    "version": 3
   },
   "file_extension": ".py",
   "mimetype": "text/x-python",
   "name": "python",
   "nbconvert_exporter": "python",
   "pygments_lexer": "ipython3",
   "version": "3.7.4"
  }
 },
 "nbformat": 4,
 "nbformat_minor": 2
}
